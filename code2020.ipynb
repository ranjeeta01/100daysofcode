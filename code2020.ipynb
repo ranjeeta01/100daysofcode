{
  "nbformat": 4,
  "nbformat_minor": 0,
  "metadata": {
    "colab": {
      "provenance": [],
      "include_colab_link": true
    },
    "kernelspec": {
      "display_name": "Python 3",
      "name": "python3"
    }
  },
  "cells": [
    {
      "cell_type": "markdown",
      "metadata": {
        "id": "view-in-github",
        "colab_type": "text"
      },
      "source": [
        "<a href=\"https://colab.research.google.com/github/ranjeeta01/100daysofcode/blob/master/code2020.ipynb\" target=\"_parent\"><img src=\"https://colab.research.google.com/assets/colab-badge.svg\" alt=\"Open In Colab\"/></a>"
      ]
    },
    {
      "cell_type": "code",
      "metadata": {
        "colab": {
          "base_uri": "https://localhost:8080/"
        },
        "id": "gE8FDJiLQ3Nt",
        "outputId": "c284234b-9576-44e2-9aea-8d09073c41c4"
      },
      "source": [
        "from google.colab import drive\n",
        "drive.mount('/content/drive')"
      ],
      "execution_count": null,
      "outputs": [
        {
          "output_type": "stream",
          "text": [
            "Mounted at /content/drive\n"
          ],
          "name": "stdout"
        }
      ]
    },
    {
      "cell_type": "code",
      "metadata": {
        "colab": {
          "resources": {
            "http://localhost:8080/nbextensions/google.colab/files.js": {
              "data": "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",
              "ok": true,
              "headers": [
                [
                  "content-type",
                  "application/javascript"
                ]
              ],
              "status": 200,
              "status_text": ""
            }
          },
          "base_uri": "https://localhost:8080/",
          "height": 174
        },
        "id": "4ZUDXkZlKC6y",
        "outputId": "01a876b4-f654-49b3-8fc5-cea4c25ccab8"
      },
      "source": [
        "from google.colab import files\n",
        "\n",
        "uploaded = files.upload()\n",
        "import numpy as np\n",
        "import csv"
      ],
      "execution_count": null,
      "outputs": [
        {
          "output_type": "display_data",
          "data": {
            "text/html": [
              "\n",
              "     <input type=\"file\" id=\"files-5b8e3352-beb0-4b96-90f8-334744332314\" name=\"files[]\" multiple disabled\n",
              "        style=\"border:none\" />\n",
              "     <output id=\"result-5b8e3352-beb0-4b96-90f8-334744332314\">\n",
              "      Upload widget is only available when the cell has been executed in the\n",
              "      current browser session. Please rerun this cell to enable.\n",
              "      </output>\n",
              "      <script src=\"/nbextensions/google.colab/files.js\"></script> "
            ],
            "text/plain": [
              "<IPython.core.display.HTML object>"
            ]
          },
          "metadata": {
            "tags": []
          }
        },
        {
          "output_type": "stream",
          "text": [
            "Saving feature_selection.py to feature_selection.py\n",
            "Saving helper.py to helper.py\n",
            "Saving nn.py to nn.py\n",
            "Saving visualization.py to visualization.py\n"
          ],
          "name": "stdout"
        }
      ]
    },
    {
      "cell_type": "code",
      "metadata": {
        "id": "U3VpGCLdMNnR"
      },
      "source": [
        "import io  # for reading csv file uploaded in colab\n",
        "import torch\n",
        "from torch import nn\n",
        "import pandas as pd\n",
        "#from helper import read_csv\n",
        "\n",
        "from prettytable import PrettyTable\n",
        "import matplotlib.pyplot as plt\n",
        "from matplotlib.ticker import FuncFormatter\n",
        "import numpy as np\n",
        "import time\n",
        "\n",
        "from sklearn.preprocessing import minmax_scale\n",
        "from sklearn.preprocessing import scale\n",
        "from sklearn.model_selection import train_test_split\n",
        "from sklearn.metrics import confusion_matrix\n",
        "\n",
        "from keras.utils import to_categorical\n",
        "from keras.callbacks import History\n",
        "from keras.models import load_model\n",
        "\n",
        "import warnings\n",
        "warnings.simplefilter(action='ignore', category=FutureWarning)"
      ],
      "execution_count": null,
      "outputs": []
    },
    {
      "cell_type": "code",
      "metadata": {
        "id": "Q8rqHy5eMReB"
      },
      "source": [
        "def table_plot(data, col_labels, row_labels, title1, idx, accs):\n",
        "    cols = np.append(np.append(idx, col_labels), 'Accuracy')\n",
        "    data = np.array(data).astype(str)\n",
        "    accs = np.array([accs])\n",
        "    data = np.concatenate( (data, accs.T), axis=1)\n",
        "    row_labels = np.array([row_labels])\n",
        "    cells = np.concatenate( (row_labels.T, data), axis=1)\n",
        "    x = PrettyTable(cols.tolist())\n",
        "    for row in cells:\n",
        "        x.add_row(row.tolist())\n",
        "    print(x.get_string(title=title1))"
      ],
      "execution_count": null,
      "outputs": []
    },
    {
      "cell_type": "code",
      "metadata": {
        "id": "uuR3hDJcMVDm"
      },
      "source": [
        "def print_database_information(y, y_train, y_val, y_test):\n",
        "\n",
        "    _, counts_all   = np.unique(y, return_counts=True, axis=0)\n",
        "    _, counts_train = np.unique(y_train, return_counts=True, axis=0)\n",
        "    _, counts_val   = np.unique(y_val, return_counts=True, axis=0)\n",
        "    _, counts_test  = np.unique(y_test, return_counts=True, axis=0)\n",
        "\n",
        "    print(\"\\n-----------------------------------\")\n",
        "    print(\"All Dataset:\")\n",
        "    print(\"-----------------------------------\")\n",
        "    for i in range(4):\n",
        "        print(\"class\", i, ': ', counts_all[i], '|', round(counts_all[i]/len(y)*100, 2), '%')\n",
        "    print(\"-----------------------------------\\n\")\n",
        "\n",
        "    print(\"-----------------------------------\")\n",
        "    print(\"Train Dataset:\")\n",
        "    print(\"-----------------------------------\")\n",
        "    for i in range(4):\n",
        "        print(\"class\", i, ': ', counts_train[i], '|', round(counts_train[i]/len(y_train)*100, 2), '%')\n",
        "    print(\"-----------------------------------\\n\")\n",
        "\n",
        "    print(\"-----------------------------------\")\n",
        "    print(\"Validation Dataset:\")\n",
        "    print(\"-----------------------------------\")\n",
        "    for i in range(4):\n",
        "        print(\"class\", i, ': ', counts_val[i], '|', round(counts_val[i]/len(y_val)*100, 2), '%')\n",
        "    print(\"-----------------------------------\\n\")\n",
        "\n",
        "    print(\"-----------------------------------\")\n",
        "    print(\"Test Dataset:\")\n",
        "    print(\"-----------------------------------\")\n",
        "    for i in range(4):\n",
        "        print(\"class\", i, ': ', counts_test[i], '|', round(counts_test[i]/len(y_test)*100, 2), '%')\n",
        "    print(\"-----------------------------------\\n\")"
      ],
      "execution_count": null,
      "outputs": []
    },
    {
      "cell_type": "code",
      "metadata": {
        "id": "w4JVOm2xMZFD"
      },
      "source": [
        "def execute_paper():\n",
        "        #Train Neural Networks and Plot the image\n",
        "        fig, axs = plt.subplots(nrows=1, ncols=2)\n",
        "        titles  =['1:(5)', '1:(10)', '1:(100)', '2:(100x10)']\n",
        "        colors = ['r', 'g', 'b', 'k']\n",
        "\n",
        "        hidden_layers=[(5,), (10,), (100,), (100,10,)]\n",
        "        neural_networks = [nn.create_mlp(11, hidden_layers[i], 4) for i in range(4)]\n",
        "\n",
        "        earlyStopping = nn.MyEarlyStopping(monitor='val_loss', min_delta=0, patience=5, verbose=1, mode='auto')\n",
        "        total_time = [0 for i in range(4)]\n",
        "\n",
        "        for i in range(4):\n",
        "            print(titles[i] + ' Start')\n",
        "\n",
        "            curr_time = time.time()\n",
        "            history = neural_networks[i].fit(X_train, y_train, epochs=500, batch_size=100, validation_data=(X_val, y_val), callbacks=[earlyStopping], verbose=0)\n",
        "\n",
        "            total_time[i] = time.time() - curr_time\n",
        "            optimal_point = earlyStopping.stopped_epoch\n",
        "\n",
        "            #Plot:\n",
        "            y_min = min(history.history[\"val_acc\"])\n",
        "            y_max = history.history[\"val_acc\"][optimal_point]\n",
        "\n",
        "            axs[0].plot(range(len(history.history[\"val_acc\"])), history.history[\"val_acc\"], color=colors[i], label=titles[i])\n",
        "            axs[0].vlines(x=optimal_point, ymin=0.6, ymax=y_max, color='k', linestyle='--')\n",
        "            legend = str(optimal_point) + \", \" + str(round(history.history[\"val_acc\"][-1]*100, 1)) + \"%\"\n",
        "            axs[0].text(optimal_point+10, y_min+0.1, legend)#, ha='center', va='center',rotation='vertical')\n",
        "\n",
        "            axs[0].set_xlabel(\"Epochs\")\n",
        "            axs[0].set_ylabel(\"Classification Accuracy\")\n",
        "\n",
        "            print(titles[i]+' Done!')\n",
        "        axs[0].legend()\n",
        "\n",
        "        def secs(x, pos):\n",
        "            'The two args are the value and tick position'\n",
        "            return '%1.1fs' % (x)\n",
        "        formatter = FuncFormatter(secs)\n",
        "        axs[1].yaxis.set_major_formatter(formatter)\n",
        "        axs[1].bar(titles, total_time)\n",
        "\n",
        "        plt.show()"
      ],
      "execution_count": null,
      "outputs": []
    },
    {
      "cell_type": "code",
      "metadata": {
        "id": "HSEdJs2aMgMl"
      },
      "source": [
        "def print_confusion_matrix():\n",
        "\n",
        "    tab_idx = ['a', 'b', 'c', 'd']\n",
        "    classes = ['DP-BPSK', 'DP-QPSK', 'DP-16QAM', 'DP-64QAM']\n",
        "    titles  =['1:(5)', '1:(10)', '1:(100)', '2:(100x10)']\n",
        "\n",
        "    models = [\"allFeatures_11-[5]-4\", \"allFeatures_11-[10]-4\", \"allFeatures_11-[100,10]-4\", \"allFeatures_11-[100]-4\"]\n",
        "\n",
        "    nothot_y_test = np.argmax(y_test, axis=1)\n",
        "    for i in range(len(tab_idx)):\n",
        "\n",
        "        clf = load_model(\"trained_models/\" + models[i] + \".h5\")\n",
        "\n",
        "        y_pred = np.argmax(clf.predict(X_test), axis=1)\n",
        "        acc = np.sum(y_pred==nothot_y_test)/len(nothot_y_test)\n",
        "\n",
        "        accs = []\n",
        "        for c in range(len(classes)):\n",
        "            idx = nothot_y_test==c\n",
        "            curr_acc = round(clf.evaluate(X_test[idx], y_test[idx], verbose=0)[1], 4)\n",
        "            accs.append(curr_acc)\n",
        "\n",
        "        cnf_matrix = confusion_matrix(nothot_y_test,y_pred)\n",
        "        table_plot(cnf_matrix, classes, classes, titles[i], tab_idx[i]+')'+titles[i]+' Acc='+str(round(acc, 4)) , accs)"
      ],
      "execution_count": null,
      "outputs": []
    },
    {
      "cell_type": "code",
      "metadata": {
        "colab": {
          "base_uri": "https://localhost:8080/",
          "height": 231
        },
        "id": "X70faCVWMmIW",
        "outputId": "86919ed2-5098-476e-96ef-8f362f7c7efe"
      },
      "source": [
        "if __name__ == \"__main__\":\n",
        "\n",
        "        #Read data:\n",
        "        X, y, features_name = pd.read_csv('data.csv')\n",
        "\n",
        "        #Preprocessing:\n",
        "        X = scale(X)\n",
        "        y = to_categorical(y)\n",
        "\n",
        "        #Split the dataset:\n",
        "        X_train, X_test, y_train, y_test = train_test_split(X, y, test_size=20000, random_state=1)\n",
        "        X_train, X_val, y_train, y_val = train_test_split(X_train, y_train, train_size=60000, random_state=1)\n",
        "\n",
        "        #Database Information:\n",
        "        #print_database_information(y, y_train, y_val, y_test)\n",
        "\n",
        "        #Train Neural Networks and Plot the image\n",
        "        #execute_paper()\n",
        "\n",
        "        #Print table\n",
        "        print_confusion_matrix()"
      ],
      "execution_count": null,
      "outputs": [
        {
          "output_type": "error",
          "ename": "ValueError",
          "evalue": "ignored",
          "traceback": [
            "\u001b[0;31m---------------------------------------------------------------------------\u001b[0m",
            "\u001b[0;31mValueError\u001b[0m                                Traceback (most recent call last)",
            "\u001b[0;32m<ipython-input-22-ee7c7cedfdb6>\u001b[0m in \u001b[0;36m<module>\u001b[0;34m()\u001b[0m\n\u001b[1;32m      2\u001b[0m \u001b[0;34m\u001b[0m\u001b[0m\n\u001b[1;32m      3\u001b[0m         \u001b[0;31m#Read data:\u001b[0m\u001b[0;34m\u001b[0m\u001b[0;34m\u001b[0m\u001b[0;34m\u001b[0m\u001b[0m\n\u001b[0;32m----> 4\u001b[0;31m         \u001b[0mX\u001b[0m\u001b[0;34m,\u001b[0m \u001b[0my\u001b[0m\u001b[0;34m,\u001b[0m \u001b[0mfeatures_name\u001b[0m \u001b[0;34m=\u001b[0m \u001b[0mpd\u001b[0m\u001b[0;34m.\u001b[0m\u001b[0mread_csv\u001b[0m\u001b[0;34m(\u001b[0m\u001b[0;34m'data.csv'\u001b[0m\u001b[0;34m)\u001b[0m\u001b[0;34m\u001b[0m\u001b[0;34m\u001b[0m\u001b[0m\n\u001b[0m\u001b[1;32m      5\u001b[0m \u001b[0;34m\u001b[0m\u001b[0m\n\u001b[1;32m      6\u001b[0m         \u001b[0;31m#Preprocessing:\u001b[0m\u001b[0;34m\u001b[0m\u001b[0;34m\u001b[0m\u001b[0;34m\u001b[0m\u001b[0m\n",
            "\u001b[0;31mValueError\u001b[0m: too many values to unpack (expected 3)"
          ]
        }
      ]
    },
    {
      "cell_type": "code",
      "metadata": {
        "id": "l5b2dRI6KzPe"
      },
      "source": [
        "C = 299792458\n",
        "\n",
        "# lambda in m\n",
        "LAMBDA = 1550e-9\n",
        "\n",
        "# frequency in HZ\n",
        "V = C/LAMBDA\n",
        "\n",
        "# chosen OSNR noise BW in m\n",
        "BN_db = 0.1 * 10**-9\n",
        "BN = V**2 * BN_db # HZ"
      ],
      "execution_count": null,
      "outputs": []
    },
    {
      "cell_type": "code",
      "metadata": {
        "id": "tXN5Be6qK4Dv"
      },
      "source": [
        "THRESHOLD_OSNR = [12.6, 13, 16, 21] # OSNR_BPSK, OSNR_QPSK, OSNR_16QAM, OSNR_64QAM\n",
        "MARGIN = [0.5, 1, 2, 3]             # MARGIN_BPSK, MARGIN_QPSK, MARGIN_16QAM, MARGIN_64QAM\n",
        "CLASSIFICATION = [2, 4, 16, 64]     # class 0, class 1, class 2, class 3 | 4 is no_class"
      ],
      "execution_count": null,
      "outputs": []
    },
    {
      "cell_type": "code",
      "metadata": {
        "id": "T4bQ6X_8K8PK"
      },
      "source": [
        "class Simulator:\n",
        "\n",
        "    def __init__(self):\n",
        "        self.set_features()\n",
        "\n",
        "    def set_features(self):\n",
        "\n",
        "        self.symbol_rate     = np.random.randint(30, 91)\n",
        "        self.roll_off        = np.random.randint(1, 6)/100\n",
        "        self.channel_load    = np.random.randint(1, 121)\n",
        "        self.dispersion      = np.random.uniform(4, 21)\n",
        "        self.nonlinear_index = np.random.uniform(0.8, 1.6)\n",
        "        self.loss            = np.random.uniform(0.15, 0.2)\n",
        "        self.span_count      = np.random.randint(1, 51)\n",
        "        self.span_length     = np.random.randint(40000, 120001)/1000\n",
        "        self.noise_figure    = np.random.uniform(4, 6.5)\n",
        "\n",
        "        self.status_linear   = False\n",
        "\n",
        "    def get_features(self):\n",
        "\n",
        "        features = [self.symbol_rate, self.roll_off, self.launch_power, self.channel_load, self.dispersion, self.nonlinear_index, self.loss, self.span_count, self.span_length, self.noise_figure, self.channel_grid]\n",
        "        return features\n",
        "\n",
        "    def convert_to_linear(self):\n",
        "\n",
        "        if self.status_linear is True:\n",
        "            return\n",
        "        else:\n",
        "            self.symbol_rate *= 1e9\n",
        "            self.dispersion *= 1e-6\n",
        "            self.nonlinear_index *= 1e-3\n",
        "            self.loss = ((self.loss*1e-5)/4.34)*1e2\n",
        "            self.span_length *= 1e3\n",
        "            self.noise_figure = 10**(self.noise_figure/10)\n",
        "\n",
        "            self.status_linear = True\n",
        "\n",
        "    def calculate_osnr(self):\n",
        "\n",
        "        #Defined Terms:\n",
        "        gain = self.loss * self.span_length\n",
        "\n",
        "        loss_eff = 1/(2*self.loss)\n",
        "        self.channel_grid = (1 + self.roll_off) * self.symbol_rate\n",
        "        bandwidth_wdm = self.channel_grid * self.channel_load\n",
        "\n",
        "        #Noise Power\n",
        "        noise_power =  H * V * BN * (gain * self.noise_figure - 1)\n",
        "\n",
        "        #Launch Power:\n",
        "        x = 2 * 16 * (self.nonlinear_index**2) * self.span_length *  BN * np.arcsinh(((1/3)*(np.pi**2))*self.dispersion*self.span_length*bandwidth_wdm**2)\n",
        "\n",
        "        epsilon = 0.3 * np.log(1 + ((6*loss_eff)/(self.span_length*np.arcsinh(((np.pi**2)/2) * self.dispersion * loss_eff * bandwidth_wdm**2))))\n",
        "        y = self.span_count**epsilon\n",
        "\n",
        "        self.launch_power = self.symbol_rate * ((27 * np.pi * self.dispersion * noise_power) / (x*y))**(1/3)\n",
        "\n",
        "        #OSNR:\n",
        "        osnr_total = (2/3)*(self.launch_power/(noise_power*self.span_count))\n",
        "\n",
        "        #Convert to dB:\n",
        "        osnr_total_dB = 10 * np.log10(osnr_total)\n",
        "\n",
        "        return osnr_total_dB\n",
        "\n",
        "    def classify(self, osnr_total_dB):\n",
        "\n",
        "        classification = 4\n",
        "        for i in reversed(range(4)):\n",
        "             L = osnr_total_dB - (THRESHOLD_OSNR[i])\n",
        "             if 0 < L <  MARGIN[i]:\n",
        "                return i\n",
        "        return classification\n",
        "\n",
        "    def simulate(self, nb_samples=1, output_path=None):\n",
        "\n",
        "        all_samples = []\n",
        "        while (len(all_samples) < nb_samples):\n",
        "\n",
        "            #Set features\n",
        "            self.set_features()\n",
        "            self.convert_to_linear()\n",
        "\n",
        "            #Simulate\n",
        "            osnr_total_dB = self.calculate_osnr()\n",
        "\n",
        "            #Classify\n",
        "            classification = self.classify(osnr_total_dB)\n",
        "            if classification == 4:\n",
        "                continue\n",
        "\n",
        "            #Data:\n",
        "            features = self.get_features()\n",
        "            data = [*features, classification]\n",
        "            all_samples.append(data)\n",
        "\n",
        "        with open(output_path, 'w', newline='') as csvfile:\n",
        "            spamwriter = csv.writer(csvfile, delimiter=',', quoting=csv.QUOTE_MINIMAL)\n",
        "            spamwriter.writerow(['Symbol Rate', 'Roll-off', 'Launch Power', 'Channel load', 'Dispersion', 'Nonlinear index', 'Loss', 'Span count', 'Span lenght', 'Noise Figure', 'Channel grid', 'Modulation Classification'])\n",
        "            spamwriter.writerows(all_samples)"
      ],
      "execution_count": null,
      "outputs": []
    },
    {
      "cell_type": "code",
      "metadata": {
        "id": "Bjqn9aU7LFhc",
        "colab": {
          "base_uri": "https://localhost:8080/",
          "height": 340
        },
        "outputId": "0a814ce8-48f9-4c18-c99a-6297ac817419"
      },
      "source": [
        "if __name__ == \"__main__\":\n",
        "\n",
        "    simulator = Simulator()\n",
        "    simulator.simulate(30000, output_path=\"data.csv\")"
      ],
      "execution_count": null,
      "outputs": [
        {
          "output_type": "error",
          "ename": "NameError",
          "evalue": "ignored",
          "traceback": [
            "\u001b[0;31m---------------------------------------------------------------------------\u001b[0m",
            "\u001b[0;31mNameError\u001b[0m                                 Traceback (most recent call last)",
            "\u001b[0;32m<ipython-input-14-5416126d2a08>\u001b[0m in \u001b[0;36m<module>\u001b[0;34m()\u001b[0m\n\u001b[1;32m      2\u001b[0m \u001b[0;34m\u001b[0m\u001b[0m\n\u001b[1;32m      3\u001b[0m     \u001b[0msimulator\u001b[0m \u001b[0;34m=\u001b[0m \u001b[0mSimulator\u001b[0m\u001b[0;34m(\u001b[0m\u001b[0;34m)\u001b[0m\u001b[0;34m\u001b[0m\u001b[0;34m\u001b[0m\u001b[0m\n\u001b[0;32m----> 4\u001b[0;31m     \u001b[0msimulator\u001b[0m\u001b[0;34m.\u001b[0m\u001b[0msimulate\u001b[0m\u001b[0;34m(\u001b[0m\u001b[0;36m30000\u001b[0m\u001b[0;34m,\u001b[0m \u001b[0moutput_path\u001b[0m\u001b[0;34m=\u001b[0m\u001b[0;34m\"data.csv\"\u001b[0m\u001b[0;34m)\u001b[0m\u001b[0;34m\u001b[0m\u001b[0;34m\u001b[0m\u001b[0m\n\u001b[0m",
            "\u001b[0;32m<ipython-input-13-8e57603ffaee>\u001b[0m in \u001b[0;36msimulate\u001b[0;34m(self, nb_samples, output_path)\u001b[0m\n\u001b[1;32m     84\u001b[0m \u001b[0;34m\u001b[0m\u001b[0m\n\u001b[1;32m     85\u001b[0m             \u001b[0;31m#Simulate\u001b[0m\u001b[0;34m\u001b[0m\u001b[0;34m\u001b[0m\u001b[0;34m\u001b[0m\u001b[0m\n\u001b[0;32m---> 86\u001b[0;31m             \u001b[0mosnr_total_dB\u001b[0m \u001b[0;34m=\u001b[0m \u001b[0mself\u001b[0m\u001b[0;34m.\u001b[0m\u001b[0mcalculate_osnr\u001b[0m\u001b[0;34m(\u001b[0m\u001b[0;34m)\u001b[0m\u001b[0;34m\u001b[0m\u001b[0;34m\u001b[0m\u001b[0m\n\u001b[0m\u001b[1;32m     87\u001b[0m \u001b[0;34m\u001b[0m\u001b[0m\n\u001b[1;32m     88\u001b[0m             \u001b[0;31m#Classify\u001b[0m\u001b[0;34m\u001b[0m\u001b[0;34m\u001b[0m\u001b[0;34m\u001b[0m\u001b[0m\n",
            "\u001b[0;32m<ipython-input-13-8e57603ffaee>\u001b[0m in \u001b[0;36mcalculate_osnr\u001b[0;34m(self)\u001b[0m\n\u001b[1;32m     47\u001b[0m \u001b[0;34m\u001b[0m\u001b[0m\n\u001b[1;32m     48\u001b[0m         \u001b[0;31m#Noise Power\u001b[0m\u001b[0;34m\u001b[0m\u001b[0;34m\u001b[0m\u001b[0;34m\u001b[0m\u001b[0m\n\u001b[0;32m---> 49\u001b[0;31m         \u001b[0mnoise_power\u001b[0m \u001b[0;34m=\u001b[0m  \u001b[0mH\u001b[0m \u001b[0;34m*\u001b[0m \u001b[0mV\u001b[0m \u001b[0;34m*\u001b[0m \u001b[0mBN\u001b[0m \u001b[0;34m*\u001b[0m \u001b[0;34m(\u001b[0m\u001b[0mgain\u001b[0m \u001b[0;34m*\u001b[0m \u001b[0mself\u001b[0m\u001b[0;34m.\u001b[0m\u001b[0mnoise_figure\u001b[0m \u001b[0;34m-\u001b[0m \u001b[0;36m1\u001b[0m\u001b[0;34m)\u001b[0m\u001b[0;34m\u001b[0m\u001b[0;34m\u001b[0m\u001b[0m\n\u001b[0m\u001b[1;32m     50\u001b[0m \u001b[0;34m\u001b[0m\u001b[0m\n\u001b[1;32m     51\u001b[0m         \u001b[0;31m#Launch Power:\u001b[0m\u001b[0;34m\u001b[0m\u001b[0;34m\u001b[0m\u001b[0;34m\u001b[0m\u001b[0m\n",
            "\u001b[0;31mNameError\u001b[0m: name 'H' is not defined"
          ]
        }
      ]
    }
  ]
}